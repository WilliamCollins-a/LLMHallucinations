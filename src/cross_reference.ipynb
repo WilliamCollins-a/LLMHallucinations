{
 "cells": [
  {
   "cell_type": "code",
   "execution_count": null,
   "metadata": {},
   "outputs": [],
   "source": [
    "#install what needs to be installed setting up intance here"
   ]
  },
  {
   "cell_type": "code",
   "execution_count": null,
   "metadata": {},
   "outputs": [],
   "source": [
    "#Google Drive mount here\n",
    "from google.colab import drive\n",
    "drive.mount('/content/gdrive/')"
   ]
  },
  {
   "cell_type": "code",
   "execution_count": null,
   "metadata": {},
   "outputs": [],
   "source": [
    "#set up file location here\n",
    "import sys\n",
    "sys.path.append('/content/gdrive/LLMHallucination')"
   ]
  },
  {
   "cell_type": "code",
   "execution_count": null,
   "metadata": {},
   "outputs": [],
   "source": [
    "# import libraries\n",
    "from Util import load_data_JSON, load_model\n",
    "import pandas as pd\n",
    "from huggingface_hub import login\n",
    "from transformers import AutoModelForCausalLM, AutoTokenizer, BitsAndBytesConfig"
   ]
  },
  {
   "cell_type": "code",
   "execution_count": null,
   "metadata": {},
   "outputs": [],
   "source": [
    "#load the data\n",
    "general_df,prompt_g,correct_g,gtp4_g,Info_g = load_data_JSON('input/general_data.json','general')\n",
    "qa_df,prompt_q,correct_q,gtp4_q,Info_q = load_data_JSON('input/qa.json','qa')\n",
    "sum_df,prompt_s,correct_s,gtp4_s,Info_s = load_data_JSON('input/summarization_data.json','sum')"
   ]
  },
  {
   "cell_type": "code",
   "execution_count": null,
   "metadata": {},
   "outputs": [],
   "source": [
    "access = input('Access code?')"
   ]
  },
  {
   "cell_type": "code",
   "execution_count": null,
   "metadata": {},
   "outputs": [],
   "source": [
    "#setup of model\n",
    "tokenizer, model = load_model(\"meta-llama/Llama-2-7b-chat-hf\",access)"
   ]
  },
  {
   "cell_type": "code",
   "execution_count": null,
   "metadata": {},
   "outputs": [],
   "source": [
    "\n",
    "def listOfTuples(l1, l2):\n",
    "    return list(map(lambda x, y:(x,y), l1, l2)) \n"
   ]
  },
  {
   "cell_type": "code",
   "execution_count": null,
   "metadata": {},
   "outputs": [],
   "source": [
    "#run of the prompts \n",
    "out_q =[]\n",
    "qp = listOfTuples(prompt_q,Info_q)\n",
    "for p in qp:\n",
    "    # Tokenize the prompt\n",
    "    inputs = tokenizer(p[0], return_tensors=\"pt\").to(\"cuda\")\n",
    "\n",
    "    # Generate the response\n",
    "    with torch.no_grad():\n",
    "        outputs = model.generate(\n",
    "            inputs['input_ids'],\n",
    "            max_length=50,  # Adjust this based on your needs\n",
    "            num_beams=5,  # Optional: Use beam search to improve generation quality\n",
    "            early_stopping=True)\n",
    "\n",
    "    # Decode the output\n",
    "    response = tokenizer.decode(outputs[0], skip_special_tokens=True)\n",
    "    prompt_qa =  \"You are a huallucination detector. You MUST determine if the provided answer contains hallucination or not for the question based on the provided Knowledge. The answer you provided MUST be \\\"Yes\\\" or \\\"No\\\"\"+ \"\\n\\n#Knowledge#: \" + p[1]+\"\\n\\n#Question#: \" + p[0] + \"\\n#Answer#: \" + response + \"\\n#Your Judgement#:\"\n",
    "    inputs = tokenizer(prompt_qa, return_tensors=\"pt\").to(\"cuda\")\n",
    "\n",
    "    # Generate the response\n",
    "    with torch.no_grad():\n",
    "        outputs = model.generate(\n",
    "            inputs['input_ids'],\n",
    "            max_length=50,  # Adjust this based on your needs\n",
    "            num_beams=5,  # Optional: Use beam search to improve generation quality\n",
    "            early_stopping=True)\n",
    "\n",
    "    # Decode the output\n",
    "    response2 = tokenizer.decode(outputs[0], skip_special_tokens=True)\n",
    "    out_q.append(response,response2)"
   ]
  },
  {
   "cell_type": "code",
   "execution_count": null,
   "metadata": {},
   "outputs": [],
   "source": [
    "#run of the prompts \n",
    "out_s =[]\n",
    "for p in prompt_s:\n",
    "    # Tokenize the prompt\n",
    "    inputs = tokenizer(\"Summarize this document: \"+p, return_tensors=\"pt\").to(\"cuda\")\n",
    "\n",
    "    # Generate the response\n",
    "    with torch.no_grad():\n",
    "        outputs = model.generate(\n",
    "            inputs['input_ids'],\n",
    "            max_length=500,  # Adjust this based on your needs\n",
    "            num_beams=5,  # Optional: Use beam search to improve generation quality\n",
    "            early_stopping=True)\n",
    "\n",
    "    # Decode the output\n",
    "    response = tokenizer.decode(outputs[0], skip_special_tokens=True)\n",
    "    prompt_su =  \"You are a summary judge. You MUST determine if the provided summary contains non-factual or hallucinated information. The answer you give MUST be \\\"Yes\\\" or \\\"No\\\"\"+ \"\\n\\n#Document#: \" + p+\"\\n\\n#Question#: \"+ \"\\n#Summary#: \" + response + \"\\n#Your Judgement#:\"\n",
    "    inputs = tokenizer(prompt_su, return_tensors=\"pt\").to(\"cuda\")\n",
    "\n",
    "    # Generate the response\n",
    "    with torch.no_grad():\n",
    "        outputs = model.generate(\n",
    "            inputs['input_ids'],\n",
    "            max_length=50,  # Adjust this based on your needs\n",
    "            num_beams=5,  # Optional: Use beam search to improve generation quality\n",
    "            early_stopping=True)\n",
    "\n",
    "    # Decode the output\n",
    "    response2 = tokenizer.decode(outputs[0], skip_special_tokens=True)\n",
    "    out_q.append(response,response2)"
   ]
  },
  {
   "cell_type": "code",
   "execution_count": null,
   "metadata": {},
   "outputs": [],
   "source": [
    "#write"
   ]
  }
 ],
 "metadata": {
  "language_info": {
   "name": "python"
  }
 },
 "nbformat": 4,
 "nbformat_minor": 2
}
