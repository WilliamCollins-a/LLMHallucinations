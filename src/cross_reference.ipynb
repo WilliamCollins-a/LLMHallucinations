{
 "cells": [
  {
   "cell_type": "code",
   "execution_count": null,
   "metadata": {},
   "outputs": [],
   "source": [
    "#install what needs to be installed setting up intance here"
   ]
  },
  {
   "cell_type": "code",
   "execution_count": null,
   "metadata": {},
   "outputs": [],
   "source": [
    "#Google Drive mount here\n",
    "from google.colab import drive\n",
    "drive.mount('/content/gdrive/')"
   ]
  },
  {
   "cell_type": "code",
   "execution_count": null,
   "metadata": {},
   "outputs": [],
   "source": [
    "#set up file location here\n",
    "import sys\n",
    "sys.path.append('/content/gdrive/LLMHallucination')"
   ]
  },
  {
   "cell_type": "code",
   "execution_count": null,
   "metadata": {},
   "outputs": [],
   "source": [
    "# import libraries\n",
    "from Util import load_data_JSON, load_model\n",
    "import pandas as pd\n",
    "from huggingface_hub import login\n",
    "from transformers import AutoModelForCausalLM, AutoTokenizer, BitsAndBytesConfig, pipeline\n",
    "import torch"
   ]
  },
  {
   "cell_type": "code",
   "execution_count": null,
   "metadata": {},
   "outputs": [],
   "source": [
    "#load the data\n",
    "qa_df,prompt_q,correct_q,gtp4_q,Info_q = load_data_JSON('input/qa.json','qa')\n",
    "df = pd.read_csv('output/Baseline_qa_1.csv')"
   ]
  },
  {
   "cell_type": "code",
   "execution_count": null,
   "metadata": {},
   "outputs": [],
   "source": [
    "access = input('Access code?')"
   ]
  },
  {
   "cell_type": "code",
   "execution_count": null,
   "metadata": {},
   "outputs": [],
   "source": [
    "#setup of model\n",
    "tokenizer, model = load_model(\"meta-llama/Llama-2-7b-chat-hf\",access)"
   ]
  },
  {
   "cell_type": "code",
   "execution_count": null,
   "metadata": {},
   "outputs": [],
   "source": [
    "gen = pipeline(\"text-generation\", model=model,torch_dtype = torch.float16, tokenizer=tokenizer)"
   ]
  },
  {
   "cell_type": "code",
   "execution_count": null,
   "metadata": {},
   "outputs": [],
   "source": [
    "def get_response(prompt,max_len):\n",
    "  sequences = gen(prompt,do_sample=True,top_k = 5, num_return_sequences =1, eos_token_id = tokenizer.eos_token_id, max_length = max_len +len(prompt) )\n",
    "  return (sequences[0]['generated_text'])"
   ]
  },
  {
   "cell_type": "code",
   "execution_count": null,
   "metadata": {},
   "outputs": [],
   "source": [
    "#run of the prompts \n",
    "out_q =[]\n",
    "system_prompt = \"\"\"<s>[INST] <<SYS>>\n",
    "\"You are a huallucination detector. You MUST determine if the provided answer contains hallucination or not for the question based on the provided Knowledge. The answer you provided MUST be \\\"Yes\\\" or \\\"No\\\"\"\n",
    "<</SYS>>\n",
    "\n",
    "\"\"\"\n",
    "for i in range(200):\n",
    "    prompt = system_prompt + f\"\\n\\n#Knowledge#: \" + {Info_q[i]}+\"\\n\\n#Question#: \" + {prompt_q[i]} + \"\\n#Answer#: \" + df[i] + \"\\n#Your Judgement#: [/INST]\"\n",
    "    response = get_response(prompt,256)\n",
    "    response = response[len(prompt):]\n",
    "    out_q.append(response)\n"
   ]
  },
  {
   "cell_type": "code",
   "execution_count": null,
   "metadata": {},
   "outputs": [],
   "source": [
    "write_out(\"/content/gdrive/MyDrive/LLMHallucinations/output/Base_cross.csv\",out_q)"
   ]
  }
 ],
 "metadata": {
  "kernelspec": {
   "display_name": "base",
   "language": "python",
   "name": "python3"
  },
  "language_info": {
   "codemirror_mode": {
    "name": "ipython",
    "version": 3
   },
   "file_extension": ".py",
   "mimetype": "text/x-python",
   "name": "python",
   "nbconvert_exporter": "python",
   "pygments_lexer": "ipython3",
   "version": "3.9.12"
  }
 },
 "nbformat": 4,
 "nbformat_minor": 2
}
