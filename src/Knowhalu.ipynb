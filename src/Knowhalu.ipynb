{
 "cells": [
  {
   "cell_type": "code",
   "execution_count": null,
   "metadata": {},
   "outputs": [],
   "source": [
    "#install what needs to be installed setting up intance here\n",
    "#install what needs to be installed setting up intance here\n",
    "!pip install -U bitsandbytes\n",
    "!pip install accelerate"
   ]
  },
  {
   "cell_type": "code",
   "execution_count": null,
   "metadata": {},
   "outputs": [],
   "source": [
    "#Google Drive mount here\n",
    "from google.colab import drive\n",
    "drive.mount('/content/gdrive/')"
   ]
  },
  {
   "cell_type": "code",
   "execution_count": null,
   "metadata": {},
   "outputs": [],
   "source": [
    "#set up file location here\n",
    "import sys\n",
    "sys.path.append('/content/gdrive/MyDrive/LLMHallucination')"
   ]
  },
  {
   "cell_type": "code",
   "execution_count": null,
   "metadata": {},
   "outputs": [],
   "source": [
    "#enabling import of custom module for colab\n",
    "! cp /content/gdrive/MyDrive/LLMHallucinations/Util.py .\n",
    "\n",
    "# import libraries\n",
    "from Util import load_data_JSON, load_model, write_out\n",
    "import pandas as pd\n",
    "from huggingface_hub import login\n",
    "from transformers import AutoModelForCausalLM, AutoTokenizer, BitsAndBytesConfig, pipeline\n",
    "import torch"
   ]
  },
  {
   "cell_type": "code",
   "execution_count": null,
   "metadata": {},
   "outputs": [],
   "source": [
    "#load the data\n",
    "general_df,prompt_g,correct_g,gtp4_g,Info_g = load_data_JSON('input/general_data.json','general')\n",
    "qa_df,prompt_q,correct_q,gtp4_q,Info_q = load_data_JSON('input/qa.json','qa')\n",
    "sum_df,prompt_s,correct_s,gtp4_s,Info_s = load_data_JSON('input/summarization_data.json','sum')"
   ]
  },
  {
   "cell_type": "code",
   "execution_count": null,
   "metadata": {},
   "outputs": [],
   "source": [
    "# Access input (API key, etc.)\n",
    "access = input('Access code?')"
   ]
  },
  {
   "cell_type": "code",
   "execution_count": null,
   "metadata": {},
   "outputs": [],
   "source": [
    "#setup of model\n",
    "tokenizer, model = load_model(\"meta-llama/Llama-2-7b-chat-hf\",access)"
   ]
  },
  {
   "cell_type": "code",
   "execution_count": null,
   "metadata": {},
   "outputs": [],
   "source": [
    "#Knowhalu method\n",
    "def get_response(question, Info):\n",
    "    prompt = system_prompt + f\"{p} [/INST]\"\n",
    "    response = get_response(prompt,256)\n",
    "    response = response[len(prompt):]\n",
    "    return response\n",
    "    \n",
    "\n",
    "\n"
   ]
  },
  {
   "cell_type": "code",
   "execution_count": null,
   "metadata": {},
   "outputs": [],
   "source": [
    "#evaluate response\n",
    "def Knowh_Eval(question, Info, answer):\n",
    "    prompt = \"system, instruction, know, question, GPTanswer(Hallucinator or correct), Response YES or NO\"\n",
    "    response = get_response(prompt_i)\n",
    "    prompt = \"System, Instruc, know, question, response, response\"\n",
    "    result = get_response(prompt)\n",
    "    return result"
   ]
  }
 ],
 "metadata": {
  "language_info": {
   "name": "python"
  }
 },
 "nbformat": 4,
 "nbformat_minor": 2
}
