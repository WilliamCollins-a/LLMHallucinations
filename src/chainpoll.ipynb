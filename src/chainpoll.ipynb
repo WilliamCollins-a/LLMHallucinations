{
 "cells": [
  {
   "cell_type": "code",
   "execution_count": null,
   "id": "1be7bf11",
   "metadata": {},
   "outputs": [],
   "source": [
    "# Install necessary packages\n",
    "!pip uninstall -y bitsandbytes accelerate\n",
    "%pip install -U bitsandbytes accelerate\n",
    "import bitsandbytes as bnb\n",
    "import accelerate\n",
    "\n",
    "# Mount Google Drive\n",
    "from google.colab import drive\n",
    "drive.mount('/content/gdrive/')"
   ]
  },
  {
   "cell_type": "code",
   "execution_count": null,
   "id": "65ae423b",
   "metadata": {},
   "outputs": [],
   "source": [
    "#enabling import of custom module for colab\n",
    "! cp /content/gdrive/MyDrive/Util.py . "
   ]
  },
  {
   "cell_type": "code",
   "execution_count": null,
   "id": "d37ab91a",
   "metadata": {},
   "outputs": [],
   "source": [
    "#set up file location here\n",
    "import sys\n",
    "sys.path.append('/content/gdrive/MyDrive')\n",
    "\n",
    "# import libraries\n",
    "from Util import load_data_JSON, load_model, write_out\n",
    "import pandas as pd\n",
    "from huggingface_hub import login\n",
    "from transformers import AutoModelForCausalLM, AutoTokenizer, BitsAndBytesConfig, pipeline\n",
    "import torch"
   ]
  },
  {
   "cell_type": "code",
   "execution_count": null,
   "id": "a7928e73",
   "metadata": {},
   "outputs": [],
   "source": [
    "#load the data\n",
    "general_df, prompt_g, correct_g, gtp4_g, Info_g = load_data_JSON('/content/gdrive/MyDrive/general_data.json', 'general')\n",
    "qa_df, prompt_q, correct_q, gtp4_q, Info_q = load_data_JSON('/content/gdrive/MyDrive/qa_data.json', 'qa')\n",
    "sum_df, prompt_s, correct_s, gtp4_s, Info_s = load_data_JSON('/content/gdrive/MyDrive/summarization_data.json', 'sum')"
   ]
  },
  {
   "cell_type": "code",
   "execution_count": null,
   "id": "4f2bae20",
   "metadata": {},
   "outputs": [],
   "source": [
    "# Access input (API key, etc.)\n",
    "access = input('Access code?')"
   ]
  },
  {
   "cell_type": "code",
   "execution_count": null,
   "id": "86df85ae",
   "metadata": {},
   "outputs": [],
   "source": [
    "#setup of model\n",
    "tokenizer, model = load_model(\"meta-llama/Llama-2-7b-chat-hf\", access)"
   ]
  },
  {
   "cell_type": "code",
   "execution_count": null,
   "id": "1e28f98f",
   "metadata": {},
   "outputs": [],
   "source": [
    "gen = pipeline(\"text-generation\", model=model,torch_dtype = torch.float16, tokenizer=tokenizer)"
   ]
  },
  {
   "cell_type": "code",
   "execution_count": null,
   "id": "d4718851",
   "metadata": {},
   "outputs": [],
   "source": [
    "# System prompt to enforce English-only responses\n",
    "system_prompt = \"\"\"[INST] <>\n",
    "You are a helpful assistant. You will answer only in English and avoid using any other languages. Your answers are clear and concise.\n",
    "<>\n",
    "\"\"\""
   ]
  },
  {
   "cell_type": "code",
   "execution_count": null,
   "id": "604576ab",
   "metadata": {},
   "outputs": [],
   "source": [
    "# Function to get model response\n",
    "def get_response(prompt, max_len):\n",
    "    sequences = gen(prompt, do_sample=True, top_k=5, num_return_sequences=1, eos_token_id=tokenizer.eos_token_id, max_length=max_len + len(prompt))\n",
    "    return sequences[0]['generated_text']"
   ]
  },
  {
   "cell_type": "code",
   "execution_count": null,
   "id": "b986bbcb",
   "metadata": {},
   "outputs": [],
   "source": [
    "# ChainPoll method to detect hallucinations\n",
    "def chainpoll(model, tokenizer, prompts, num_responses=5):\n",
    "    out_q = []\n",
    "\n",
    "    for i, prompt in enumerate(prompts[:2]):\n",
    "        hallucination_scores = []\n",
    "        prompt_with_system = system_prompt + f\"{prompt} [/INST]\"\n",
    "\n",
    "        for _ in range(num_responses):\n",
    "            # Tokenize the prompt\n",
    "            inputs = tokenizer(prompt_with_system, return_tensors=\"pt\").to(\"cuda\")\n",
    "\n",
    "            # Generate the response\n",
    "            with torch.no_grad():\n",
    "                outputs = model.generate(\n",
    "                    inputs['input_ids'],\n",
    "                    max_length=50,  # Adjust based on needs\n",
    "                    num_beams=5,\n",
    "                    early_stopping=True\n",
    "                )\n",
    "\n",
    "            # Decode the output response\n",
    "            response = tokenizer.decode(outputs[0], skip_special_tokens=True)\n",
    "\n",
    "            # Check for hallucinations\n",
    "            hallucination_prompt = f\"Does the following output contain hallucinations? Explain in detail:\\n\\nOutput: {response}\\n\"\n",
    "            hallucination_inputs = tokenizer(hallucination_prompt, return_tensors=\"pt\").to(\"cuda\")\n",
    "\n",
    "            with torch.no_grad():\n",
    "                hall_outputs = model.generate(\n",
    "                    hallucination_inputs['input_ids'],\n",
    "                    max_length=100,  # Adjust as needed\n",
    "                    num_beams=5,\n",
    "                    early_stopping=True\n",
    "                )\n",
    "\n",
    "            hallucination_response = tokenizer.decode(hall_outputs[0], skip_special_tokens=True)\n",
    "\n",
    "            # Check for hallucination in the response\n",
    "            if \"yes\" in hallucination_response.lower():\n",
    "                hallucination_scores.append(1)\n",
    "            else:\n",
    "                hallucination_scores.append(0)\n",
    "\n",
    "        # Calculate final hallucination score\n",
    "        hallucination_score = sum(hallucination_scores) / num_responses\n",
    "\n",
    "        # Append the result with formatted output\n",
    "        out_q.append({\n",
    "            \"prompt\": prompt,\n",
    "            \"response\": response,\n",
    "            \"hallucination_score\": hallucination_score,\n",
    "            \"explanation\": hallucination_response\n",
    "        })\n",
    "\n",
    "    return out_q"
   ]
  },
  {
   "cell_type": "code",
   "execution_count": null,
   "id": "875df8ef",
   "metadata": {},
   "outputs": [],
   "source": [
    "chainpoll_results = chainpoll(model, tokenizer, prompt_q)"
   ]
  },
  {
   "cell_type": "code",
   "execution_count": null,
   "id": "a4a44c67",
   "metadata": {},
   "outputs": [],
   "source": [
    "# Format the output for better readability\n",
    "formatted_out_q = []\n",
    "for result in chainpoll_results:\n",
    "    formatted_output = f\"\"\"\n",
    "    Prompt: {result['prompt']}\n",
    "\n",
    "    Response: {result['response']}\n",
    "\n",
    "    Hallucination Score: {result['hallucination_score']}\n",
    "\n",
    "    Explanation: {result['explanation']}\n",
    "    \"\"\"\n",
    "    formatted_out_q.append(formatted_output)\n",
    "\n",
    "# Print the formatted results (optional)\n",
    "for formatted_result in formatted_out_q:\n",
    "    print(formatted_result)"
   ]
  },
  {
   "cell_type": "code",
   "execution_count": null,
   "id": "cce8f411",
   "metadata": {},
   "outputs": [],
   "source": [
    "out_q = []\n",
    "for result in chainpoll_results:\n",
    "    prompt = result[\"prompt\"]\n",
    "    response = result[\"response\"]\n",
    "    hallucination_score = result[\"hallucination_score\"]\n",
    "    explanation = result[\"explanation\"]\n",
    "\n",
    "    out_q.append({\n",
    "        \"prompt\": prompt,\n",
    "        \"response\": response,\n",
    "        \"hallucination_score\": hallucination_score,\n",
    "        \"explanation\": explanation\n",
    "    })"
   ]
  },
  {
   "cell_type": "code",
   "execution_count": null,
   "id": "993b4ec1",
   "metadata": {},
   "outputs": [],
   "source": [
    "# Generate responses using the system prompt\n",
    "out_q = []\n",
    "for p in prompt_q:\n",
    "    prompt = system_prompt + f\"{p} [/INST]\"\n",
    "    response = get_response(prompt, 256)\n",
    "    response = response[len(prompt):]\n",
    "    out_q.append(response)"
   ]
  },
  {
   "cell_type": "code",
   "execution_count": null,
   "id": "8d498aec",
   "metadata": {},
   "outputs": [],
   "source": [
    "# Write the results\n",
    "write_out(\"/content/gdrive/MyDrive/ChainPoll_qa_results.csv\", formatted_out_q)"
   ]
  }
 ],
 "metadata": {
  "language_info": {
   "name": "python"
  }
 },
 "nbformat": 4,
 "nbformat_minor": 5
}
