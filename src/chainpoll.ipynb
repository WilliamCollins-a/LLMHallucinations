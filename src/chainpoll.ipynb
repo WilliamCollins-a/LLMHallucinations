{
 "cells": [
  {
   "cell_type": "code",
   "execution_count": null,
   "id": "1be7bf11",
   "metadata": {},
   "outputs": [],
   "source": [
    "#install what needs to be installed setting up instance here\n",
    "!pip uninstall -y bitsandbytes accelerate\n",
    "\n",
    "%pip install -U bitsandbytes accelerate\n",
    "%pip install langdetect\n",
    "\n",
    "import bitsandbytes as bnb\n",
    "import accelerate\n",
    "from langdetect import detect\n",
    "\n",
    "#Google Drive mount here\n",
    "from google.colab import drive\n",
    "drive.mount('/content/gdrive/')"
   ]
  },
  {
   "cell_type": "code",
   "execution_count": null,
   "id": "65ae423b",
   "metadata": {},
   "outputs": [],
   "source": [
    "#enabling import of custom module for colab\n",
    "! cp /content/gdrive/MyDrive/Util.py . "
   ]
  },
  {
   "cell_type": "code",
   "execution_count": null,
   "id": "d37ab91a",
   "metadata": {},
   "outputs": [],
   "source": [
    "#set up file location here\n",
    "import sys\n",
    "sys.path.append('/content/gdrive/MyDrive')\n",
    "\n",
    "# import libraries\n",
    "from Util import load_data_JSON, load_model, write_out\n",
    "import pandas as pd\n",
    "from huggingface_hub import login\n",
    "from transformers import AutoModelForCausalLM, AutoTokenizer, BitsAndBytesConfig, pipeline\n",
    "import torch"
   ]
  },
  {
   "cell_type": "code",
   "execution_count": null,
   "id": "a7928e73",
   "metadata": {},
   "outputs": [],
   "source": [
    "#load the data\n",
    "general_df, prompt_g, correct_g, gtp4_g, Info_g = load_data_JSON('/content/gdrive/MyDrive/general_data.json', 'general')\n",
    "qa_df, prompt_q, correct_q, gtp4_q, Info_q = load_data_JSON('/content/gdrive/MyDrive/qa_data.json', 'qa')\n",
    "sum_df, prompt_s, correct_s, gtp4_s, Info_s = load_data_JSON('/content/gdrive/MyDrive/summarization_data.json', 'sum')"
   ]
  },
  {
   "cell_type": "code",
   "execution_count": null,
   "id": "4f2bae20",
   "metadata": {},
   "outputs": [],
   "source": [
    "# Access input (API key, etc.)\n",
    "access = input('Access code?')"
   ]
  },
  {
   "cell_type": "code",
   "execution_count": null,
   "id": "86df85ae",
   "metadata": {},
   "outputs": [],
   "source": [
    "#setup of model\n",
    "tokenizer, model = load_model(\"meta-llama/Llama-2-7b-chat-hf\", access)"
   ]
  },
  {
   "cell_type": "code",
   "execution_count": null,
   "id": "1e28f98f",
   "metadata": {},
   "outputs": [],
   "source": [
    "gen = pipeline(\"text-generation\", model=model,torch_dtype = torch.float16, tokenizer=tokenizer)"
   ]
  },
  {
   "cell_type": "code",
   "execution_count": null,
   "id": "d4718851",
   "metadata": {},
   "outputs": [],
   "source": [
    "# System prompt to enforce English-only responses\n",
    "system_prompt = \"\"\"[INST] <>\n",
    "You are a helpful assistant. You will answer only in English and avoid using any other languages. Your answers are clear and concise.\n",
    "<>\n",
    "\"\"\""
   ]
  },
  {
   "cell_type": "code",
   "execution_count": null,
   "id": "604576ab",
   "metadata": {},
   "outputs": [],
   "source": [
    "# Language detection function to ensure English-only responses\n",
    "def get_response(prompt, max_len):\n",
    "    prompt_with_system = system_prompt + prompt + \" [/INST]\"\n",
    "    retry_count = 0\n",
    "    max_retries = 3\n",
    "    response = \"\"\n",
    "\n",
    "    while retry_count < max_retries:\n",
    "        sequences = gen(prompt_with_system, do_sample=True, top_k=5, num_return_sequences=1, \n",
    "                        eos_token_id=tokenizer.eos_token_id, max_length=max_len + len(prompt))\n",
    "        response = sequences[0]['generated_text']\n",
    "\n",
    "        # Detect language of the response\n",
    "        if detect(response) == 'en':\n",
    "            return response\n",
    "        else:\n",
    "            retry_count += 1\n",
    "            print(f\"Detected non-English response, retrying ({retry_count}/{max_retries})...\")\n",
    "\n",
    "    # If it fails after retries, return the last attempt\n",
    "    return response"
   ]
  },
  {
   "cell_type": "code",
   "execution_count": null,
   "id": "b986bbcb",
   "metadata": {},
   "outputs": [],
   "source": [
    "# ChainPoll method with language detection and retry mechanism\n",
    "def chainpoll(model, tokenizer, prompts, num_responses=5):\n",
    "    out_q = []\n",
    "    max_retries = 3  # Limit retries for language detection\n",
    "\n",
    "    for i, prompt in enumerate(prompts[:2]):\n",
    "        hallucination_scores = []\n",
    "        explanations = []\n",
    "\n",
    "        prompt_with_system = system_prompt + f\"{prompt} [/INST]\"\n",
    "\n",
    "        for _ in range(num_responses):\n",
    "            retry_count = 0\n",
    "            response = \"\"\n",
    "            \n",
    "            # Retry mechanism for ensuring English language responses\n",
    "            while retry_count < max_retries:\n",
    "                inputs = tokenizer(prompt, return_tensors=\"pt\").to(\"cuda\")\n",
    "                with torch.no_grad():\n",
    "                    outputs = model.generate(\n",
    "                        inputs['input_ids'],\n",
    "                        max_length=50,\n",
    "                        num_beams=5,\n",
    "                        early_stopping=True\n",
    "                    )\n",
    "                response = tokenizer.decode(outputs[0], skip_special_tokens=True)\n",
    "                \n",
    "                if detect(response) == 'en':\n",
    "                    break\n",
    "                else:\n",
    "                    retry_count += 1\n",
    "                    print(f\"Detected non-English response, retrying ({retry_count}/{max_retries})...\")\n",
    "\n",
    "            hallucination_prompt = f\"Does the following output contain hallucinations? Explain in detail:\\n\\nOutput: {response}\\n\"\n",
    "            hallucination_inputs = tokenizer(hallucination_prompt, return_tensors=\"pt\").to(\"cuda\")\n",
    "            with torch.no_grad():\n",
    "                hall_outputs = model.generate(\n",
    "                    hallucination_inputs['input_ids'],\n",
    "                    max_length=100,\n",
    "                    num_beams=5,\n",
    "                    early_stopping=True\n",
    "                )\n",
    "\n",
    "            hallucination_response = tokenizer.decode(hall_outputs[0], skip_special_tokens=True)\n",
    "\n",
    "            if \"yes\" in hallucination_response.lower():\n",
    "                hallucination_scores.append(1)\n",
    "            else:\n",
    "                hallucination_scores.append(0)\n",
    "\n",
    "        hallucination_score = sum(hallucination_scores) / num_responses\n",
    "        out_q.append({\n",
    "            \"prompt\": prompt,\n",
    "            \"response\": response,\n",
    "            \"hallucination_score\": hallucination_score,\n",
    "            \"explanation\": hallucination_response\n",
    "        })\n",
    "\n",
    "    return out_q"
   ]
  },
  {
   "cell_type": "code",
   "execution_count": null,
   "id": "875df8ef",
   "metadata": {},
   "outputs": [],
   "source": [
    "chainpoll_results = chainpoll(model, tokenizer, prompt_q)"
   ]
  },
  {
   "cell_type": "code",
   "execution_count": null,
   "id": "133b83e6",
   "metadata": {},
   "outputs": [],
   "source": [
    "# Format the output for better readability\n",
    "formatted_out_q = []\n",
    "for result in chainpoll_results:\n",
    "    formatted_output = f\"\"\"\n",
    "    Prompt: {result['prompt']}\n",
    "\n",
    "    Response: {result['response']}\n",
    "\n",
    "    Hallucination Score: {result['hallucination_score']}\n",
    "\n",
    "    Explanation: {result['explanation']}\n",
    "    \"\"\"\n",
    "    formatted_out_q.append(formatted_output)\n",
    "\n",
    "# Print the formatted results (optional)\n",
    "# for formatted_result in formatted_out_q:\n",
    "    # print(formatted_result)"
   ]
  },
  {
   "cell_type": "code",
   "execution_count": null,
   "id": "710fd5c6",
   "metadata": {},
   "outputs": [],
   "source": [
    "out_q =[]\n",
    "for result in chainpoll_results:\n",
    "    prompt = result[\"prompt\"]\n",
    "    response = result[\"response\"]\n",
    "    hallucination_score = result[\"hallucination_score\"]\n",
    "    explanation = result[\"explanation\"]\n",
    "\n",
    "    # Append results to out_q for writing\n",
    "    out_q.append({\n",
    "        \"prompt\": prompt,\n",
    "        \"response\": response,\n",
    "        \"hallucination_score\": hallucination_score,\n",
    "        \"explanation\": explanation\n",
    "    })"
   ]
  },
  {
   "cell_type": "code",
   "execution_count": null,
   "id": "8d498aec",
   "metadata": {},
   "outputs": [],
   "source": [
    "# Write the results\n",
    "write_out(\"/content/gdrive/MyDrive/ChainPoll_qa_results.csv\", formatted_out_q)"
   ]
  }
 ],
 "metadata": {
  "language_info": {
   "name": "python"
  }
 },
 "nbformat": 4,
 "nbformat_minor": 5
}
