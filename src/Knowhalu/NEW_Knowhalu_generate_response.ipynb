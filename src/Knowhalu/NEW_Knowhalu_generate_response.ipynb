{
 "cells": [
  {
   "cell_type": "code",
   "execution_count": null,
   "metadata": {},
   "outputs": [],
   "source": [
    "#install what needs to be installed setting up intance here\n",
    "#install what needs to be installed setting up intance here\n",
    "!pip install -U bitsandbytes\n",
    "!pip install accelerate"
   ]
  },
  {
   "cell_type": "code",
   "execution_count": null,
   "metadata": {},
   "outputs": [],
   "source": [
    "#Google Drive mount here\n",
    "from google.colab import drive\n",
    "drive.mount('/content/gdrive/')"
   ]
  },
  {
   "cell_type": "code",
   "execution_count": null,
   "metadata": {},
   "outputs": [],
   "source": [
    "#set up file location here\n",
    "import sys\n",
    "sys.path.append('/content/gdrive/LLMHallucination')"
   ]
  },
  {
   "cell_type": "code",
   "execution_count": null,
   "metadata": {},
   "outputs": [],
   "source": [
    "# import libraries\n",
    "!cp/content/gdrive/MyDrive/LLMHallucinations/utils_2.py\n",
    "from utils_2 import load_data_JSON, load_model\n",
    "import pandas as pd\n",
    "from huggingface_hub import login\n",
    "from transformers import AutoModelForCausalLM, AutoTokenizer, BitsAndBytesConfig"
   ]
  },
  {
   "cell_type": "code",
   "execution_count": null,
   "metadata": {},
   "outputs": [],
   "source": [
    "#load the data\n",
    "general_df,prompt_g,correct_g,gtp4_g,Info_g = load_data_JSON('input/general_data.json','general')\n",
    "qa_df,prompt_q,correct_q,gtp4_q,Info_q = load_data_JSON('input/qa.json','qa')\n",
    "sum_df,prompt_s,correct_s,gtp4_s,Info_s = load_data_JSON('input/summarization_data.json','sum')"
   ]
  },
  {
   "cell_type": "code",
   "execution_count": null,
   "metadata": {},
   "outputs": [],
   "source": [
    "# Access input (API key, etc.)\n",
    "access = input('Access code?')"
   ]
  },
  {
   "cell_type": "code",
   "execution_count": null,
   "metadata": {},
   "outputs": [],
   "source": [
    "#setup of model\n",
    "tokenizer, model = load_model(\"meta-llama/Llama-2-7b-chat-hf\",access)"
   ]
  },
  {
   "cell_type": "code",
   "execution_count": null,
   "metadata": {},
   "outputs": [],
   "source": [
    "#Knowhalu method\n",
    "\n",
    "#Set up Conda environment\n",
    "conda create --name knowhalu python=3.8\n",
    "conda activate knowhalu\n",
    "pip install -r requirements.txt\n",
    "\n",
    "\n",
    "#Non-Fabrication Hallucination Checking\n",
    "import qa_relevance\n",
    "\n",
    "#Gather queries and related knowledge\n",
    "import qa_query --model meta-llama/Llama-2-7b-chat-hf --form semantic --topk 2 --answer_type right --knowledge_type ground --query_selection None\\n\",\n",
    "\n",
    "#Final judgement\n",
    "import qa_judge\n",
    "    \n",
    "\n"
   ]
  },
  {
   "cell_type": "code",
   "execution_count": null,
   "metadata": {},
   "outputs": [],
   "source": [
    "#write"
   ]
  }
 ],
 "metadata": {
  "language_info": {
   "name": "python"
  }
 },
 "nbformat": 4,
 "nbformat_minor": 2
}
