{
 "cells": [
  {
   "cell_type": "code",
   "execution_count": null,
   "metadata": {},
   "outputs": [],
   "source": [
    "#install what needs to be installed setting up intance here"
   ]
  },
  {
   "cell_type": "code",
   "execution_count": null,
   "metadata": {},
   "outputs": [],
   "source": [
    "#Google Drive mount here\n",
    "from google.colab import drive\n",
    "drive.mount('/content/gdrive/')"
   ]
  },
  {
   "cell_type": "code",
   "execution_count": null,
   "metadata": {},
   "outputs": [],
   "source": [
    "#set up file location here\n",
    "import sys\n",
    "sys.path.append('/content/gdrive/LLMHallucination')"
   ]
  },
  {
   "cell_type": "code",
   "execution_count": null,
   "metadata": {},
   "outputs": [],
   "source": [
    "# import libraries\n",
    "from Util import load_data_JSON, load_model\n",
    "import pandas as pd\n",
    "from huggingface_hub import login\n",
    "from transformers import AutoModelForCausalLM, AutoTokenizer, BitsAndBytesConfig"
   ]
  },
  {
   "cell_type": "code",
   "execution_count": null,
   "metadata": {},
   "outputs": [],
   "source": [
    "#load the data\n",
    "general_df,prompt_g,correct_g,gtp4_g,Info_g = load_data_JSON('general_data.json','general')\n",
    "qa_df,prompt_q,correct_q,gtp4_q,Info_q = load_data_JSON('qa.json','qa')\n",
    "sum_df,prompt_s,correct_s,gtp4_s,Info_s = load_data_JSON('summarization_data.json','sum')"
   ]
  },
  {
   "cell_type": "code",
   "execution_count": null,
   "metadata": {},
   "outputs": [],
   "source": [
    "access = input('Access code?')"
   ]
  },
  {
   "cell_type": "code",
   "execution_count": null,
   "metadata": {},
   "outputs": [],
   "source": [
    "#setup of model\n",
    "tokenizer, model = load_model(\"meta-llama/Llama-2-7b-chat-hf\",access)"
   ]
  },
  {
   "cell_type": "code",
   "execution_count": null,
   "metadata": {},
   "outputs": [],
   "source": [
    "#run of the prompts \n",
    "out_g =[]\n",
    "for p in prompt_g:\n",
    "    # Tokenize the prompt\n",
    "    inputs = tokenizer(p, return_tensors=\"pt\").to(\"cuda\")\n",
    "\n",
    "    # Generate the response\n",
    "    with torch.no_grad():\n",
    "        outputs = model.generate(\n",
    "            inputs['input_ids'],\n",
    "            max_length=50,  # Adjust this based on your needs\n",
    "            num_beams=5,  # Optional: Use beam search to improve generation quality\n",
    "            early_stopping=True)\n",
    "\n",
    "    # Decode the output\n",
    "    response = tokenizer.decode(outputs[0], skip_special_tokens=True)\n",
    "    out_g.append(response)"
   ]
  },
  {
   "cell_type": "code",
   "execution_count": null,
   "metadata": {},
   "outputs": [],
   "source": [
    "#run of the prompts \n",
    "out_q =[]\n",
    "for p in prompt_q:\n",
    "    # Tokenize the prompt\n",
    "    inputs = tokenizer(p, return_tensors=\"pt\").to(\"cuda\")\n",
    "\n",
    "    # Generate the response\n",
    "    with torch.no_grad():\n",
    "        outputs = model.generate(\n",
    "            inputs['input_ids'],\n",
    "            max_length=50,  # Adjust this based on your needs\n",
    "            num_beams=5,  # Optional: Use beam search to improve generation quality\n",
    "            early_stopping=True)\n",
    "\n",
    "    # Decode the output\n",
    "    response = tokenizer.decode(outputs[0], skip_special_tokens=True)\n",
    "    out_q.append(response)"
   ]
  },
  {
   "cell_type": "code",
   "execution_count": null,
   "metadata": {},
   "outputs": [],
   "source": [
    "#run of the prompts \n",
    "out_s =[]\n",
    "for p in prompt_s:\n",
    "    # Tokenize the prompt\n",
    "    inputs = tokenizer(p, return_tensors=\"pt\").to(\"cuda\")\n",
    "\n",
    "    # Generate the response\n",
    "    with torch.no_grad():\n",
    "        outputs = model.generate(\n",
    "            inputs['input_ids'],\n",
    "            max_length=500,  # Adjust this based on your needs\n",
    "            num_beams=5,  # Optional: Use beam search to improve generation quality\n",
    "            early_stopping=True)\n",
    "\n",
    "    # Decode the output\n",
    "    response = tokenizer.decode(outputs[0], skip_special_tokens=True)\n",
    "    out_s.append(response)"
   ]
  },
  {
   "cell_type": "code",
   "execution_count": null,
   "metadata": {},
   "outputs": [],
   "source": [
    "write()"
   ]
  }
 ],
 "metadata": {
  "language_info": {
   "name": "python"
  }
 },
 "nbformat": 4,
 "nbformat_minor": 2
}
