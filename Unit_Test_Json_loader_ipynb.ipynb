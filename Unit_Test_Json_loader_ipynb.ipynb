{
  "nbformat": 4,
  "nbformat_minor": 0,
  "metadata": {
    "colab": {
      "provenance": [],
      "authorship_tag": "ABX9TyNPgWTcDrrpRFYW4wmd+B4p",
      "include_colab_link": true
    },
    "kernelspec": {
      "name": "python3",
      "display_name": "Python 3"
    },
    "language_info": {
      "name": "python"
    }
  },
  "cells": [
    {
      "cell_type": "markdown",
      "metadata": {
        "id": "view-in-github",
        "colab_type": "text"
      },
      "source": [
        "<a href=\"https://colab.research.google.com/github/WilliamCollins-a/LLMHallucinations/blob/Semantic-Entropy/Unit_Test_Json_loader_ipynb.ipynb\" target=\"_parent\"><img src=\"https://colab.research.google.com/assets/colab-badge.svg\" alt=\"Open In Colab\"/></a>"
      ]
    },
    {
      "cell_type": "code",
      "execution_count": null,
      "metadata": {
        "id": "KeiprcsG7JNG"
      },
      "outputs": [],
      "source": []
    },
    {
      "cell_type": "code",
      "execution_count": null,
      "metadata": {
        "colab": {
          "base_uri": "https://localhost:8080/"
        },
        "id": "B8JfUytdvA3j",
        "outputId": "1d75aac7-b526-49f8-ada5-1ae7da72e2ce"
      },
      "outputs": [
        {
          "output_type": "stream",
          "name": "stdout",
          "text": [
            "Drive already mounted at /content/drive; to attempt to forcibly remount, call drive.mount(\"/content/drive\", force_remount=True).\n"
          ]
        }
      ],
      "source": [
        "#Import the 'drive' module from Google Colab to enable access to Google Drive files and\n",
        "from google.colab import drive\n",
        "# Mount Google Drive to the Colab environment\n",
        "drive.mount('/content/drive')\n"
      ]
    },
    {
      "cell_type": "code",
      "source": [
        "import os\n",
        "print(os.path.exists('/content/qa_data.json'))\n"
      ],
      "metadata": {
        "colab": {
          "base_uri": "https://localhost:8080/"
        },
        "id": "srtUoQPLDbea",
        "outputId": "848d3f24-8160-4f20-fc11-e29cf28373cb"
      },
      "execution_count": null,
      "outputs": [
        {
          "output_type": "stream",
          "name": "stdout",
          "text": [
            "False\n"
          ]
        }
      ]
    },
    {
      "cell_type": "code",
      "source": [],
      "metadata": {
        "id": "83S8znHVFGue"
      },
      "execution_count": null,
      "outputs": []
    },
    {
      "cell_type": "code",
      "source": [
        "import sys\n",
        "sys.path.append('/content/drive/MyDrive/Colab Notebooks')\n"
      ],
      "metadata": {
        "id": "LJQbJZ69pJpP"
      },
      "execution_count": null,
      "outputs": []
    },
    {
      "cell_type": "code",
      "source": [
        "import unittest\n",
        "import json\n",
        "import os\n",
        "\n",
        "# Load function to fetch JSON data from a local file\n",
        "def load_json_data(file_path):\n",
        "    \"\"\"\n",
        "    Fetches and loads JSON data from a local file.\n",
        "\n",
        "    Parameters:\n",
        "    - file_path (str): The local file path of the JSON data.\n",
        "\n",
        "    Returns:\n",
        "    - list: A list of parsed JSON objects or None if an error occurs.\n",
        "    \"\"\"\n",
        "    try:\n",
        "        # Open and read the JSON file\n",
        "        with open(file_path, 'r', encoding='utf-8') as file:\n",
        "            # Try to load the JSON data\n",
        "            data = file.read()\n",
        "\n",
        "            # Split and process if multiple JSON objects are found\n",
        "            try:\n",
        "                # Example to split if JSON objects are concatenated without proper array\n",
        "                json_objects = data.strip().split('\\n')\n",
        "                parsed_data = [json.loads(obj) for obj in json_objects]\n",
        "                return parsed_data\n",
        "            except json.JSONDecodeError as e:\n",
        "                print(f\"JSONDecodeError: {e}\")\n",
        "                print(\"The content may not be a valid JSON or has extra data.\")\n",
        "                return None\n",
        "\n",
        "    except FileNotFoundError as e:\n",
        "        print(f\"FileNotFoundError: {e}\")\n",
        "        print(\"The specified file path does not exist.\")\n",
        "        return None\n",
        "    except Exception as e:\n",
        "        print(f\"Error: {e}\")\n",
        "        print(\"There was an error reading the file.\")\n",
        "        return None\n",
        "\n",
        "class TestLoadJsonData(unittest.TestCase):\n",
        "\n",
        "    def test_load_real_qa_data(self):\n",
        "        \"\"\"\n",
        "        Test loading the real QA dataset to ensure it is loaded correctly.\n",
        "        \"\"\"\n",
        "        file_path = r\"/content/drive/MyDrive/Colab Notebooks/qa_data.json\"  # Fixed the string literal\n",
        "\n",
        "        # Call the function with the local file path\n",
        "        data = load_json_data(file_path)\n",
        "\n",
        "        # Debugging: Print the fetched data length and first few entries\n",
        "        print(\"Real QA Data Loaded - Number of Entries:\", len(data) if data else \"Failed to load data\")\n",
        "        if data:\n",
        "            print(\"First Entry:\", data[0])\n",
        "\n",
        "        # Verify that data is loaded and not None\n",
        "        self.assertIsNotNone(data, \"Failed to load real QA data.\")\n",
        "        self.assertTrue(len(data) > 0, \"No data found in the QA dataset.\")\n",
        "\n",
        "        # Update expected keys based on your actual dataset structure\n",
        "        expected_keys = [\"knowledge\", \"question\", \"right_answer\", \"hallucinated_answer\"]\n",
        "        self.assertTrue(all(key in data[0] for key in expected_keys), \"Expected keys not found in the first entry.\")\n",
        "\n",
        "# Run the tests\n",
        "if __name__ == \"__main__\":\n",
        "    unittest.main(argv=[''], exit=False)\n"
      ],
      "metadata": {
        "colab": {
          "base_uri": "https://localhost:8080/"
        },
        "id": "putB-Ea3FrlZ",
        "outputId": "2c08c2d6-a345-45fe-8913-150b33c391cb"
      },
      "execution_count": null,
      "outputs": [
        {
          "output_type": "stream",
          "name": "stderr",
          "text": [
            ".\n",
            "----------------------------------------------------------------------\n",
            "Ran 1 test in 1.297s\n",
            "\n",
            "OK\n"
          ]
        },
        {
          "output_type": "stream",
          "name": "stdout",
          "text": [
            "Real QA Data Loaded - Number of Entries: 10000\n",
            "First Entry: {'knowledge': \"Arthur's Magazine (1844–1846) was an American literary periodical published in Philadelphia in the 19th century.First for Women is a woman's magazine published by Bauer Media Group in the USA.\", 'question': \"Which magazine was started first Arthur's Magazine or First for Women?\", 'right_answer': \"Arthur's Magazine\", 'hallucinated_answer': 'First for Women was started first.'}\n"
          ]
        }
      ]
    }
  ]
}